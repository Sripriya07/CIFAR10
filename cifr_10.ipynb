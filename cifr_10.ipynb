{
  "nbformat": 4,
  "nbformat_minor": 0,
  "metadata": {
    "colab": {
      "name": "cifr 10.ipynb",
      "version": "0.3.2",
      "provenance": []
    },
    "kernelspec": {
      "name": "python3",
      "display_name": "Python 3"
    },
    "accelerator": "GPU"
  },
  "cells": [
    {
      "cell_type": "code",
      "metadata": {
        "id": "wNuEBYeesQQ8",
        "colab_type": "code",
        "outputId": "98334758-f77f-4386-c195-20e8b6328156",
        "colab": {
          "base_uri": "https://localhost:8080/",
          "height": 34
        }
      },
      "source": [
        "import numpy as np\n",
        "import pandas as pd\n",
        "import matplotlib.pyplot as plt\n",
        "%matplotlib inline\n",
        "import keras"
      ],
      "execution_count": 2,
      "outputs": [
        {
          "output_type": "stream",
          "text": [
            "Using TensorFlow backend.\n"
          ],
          "name": "stderr"
        }
      ]
    },
    {
      "cell_type": "code",
      "metadata": {
        "id": "EHPqeyfesRAR",
        "colab_type": "code",
        "outputId": "ad8c2148-7035-4a56-ae87-17f9043f7e67",
        "colab": {
          "base_uri": "https://localhost:8080/",
          "height": 50
        }
      },
      "source": [
        "from keras.datasets import cifar10\n",
        "\n",
        "(x_train, y_train), (x_test, y_test) = cifar10.load_data()"
      ],
      "execution_count": 3,
      "outputs": [
        {
          "output_type": "stream",
          "text": [
            "Downloading data from https://www.cs.toronto.edu/~kriz/cifar-10-python.tar.gz\n",
            "170500096/170498071 [==============================] - 2s 0us/step\n"
          ],
          "name": "stdout"
        }
      ]
    },
    {
      "cell_type": "code",
      "metadata": {
        "id": "PQNYcQaHsaYw",
        "colab_type": "code",
        "colab": {
          "base_uri": "https://localhost:8080/",
          "height": 34
        },
        "outputId": "3512b5e9-0cc1-4178-afff-737a5a8f2d9c"
      },
      "source": [
        "print(x_train.shape,y_train.shape)"
      ],
      "execution_count": 4,
      "outputs": [
        {
          "output_type": "stream",
          "text": [
            "(50000, 32, 32, 3) (50000, 1)\n"
          ],
          "name": "stdout"
        }
      ]
    },
    {
      "cell_type": "code",
      "metadata": {
        "id": "dDhggJj-72tq",
        "colab_type": "code",
        "colab": {
          "base_uri": "https://localhost:8080/",
          "height": 34
        },
        "outputId": "2d86bd60-40d0-4eab-86e5-59fa4c00e1d0"
      },
      "source": [
        "print(x_test.shape,y_test.shape)"
      ],
      "execution_count": 5,
      "outputs": [
        {
          "output_type": "stream",
          "text": [
            "(10000, 32, 32, 3) (10000, 1)\n"
          ],
          "name": "stdout"
        }
      ]
    },
    {
      "cell_type": "code",
      "metadata": {
        "id": "wArWsFibV-eG",
        "colab_type": "code",
        "colab": {
          "base_uri": "https://localhost:8080/",
          "height": 34
        },
        "outputId": "d124ee44-b5de-4e10-a0f8-7df8136a7723"
      },
      "source": [
        "Y_train=np_utils.to_categorical(y_train)\n",
        "Y_test=np_utils.to_categorical(y_test)\n",
        "print(Y_train.shape,Y_test.shape)"
      ],
      "execution_count": 8,
      "outputs": [
        {
          "output_type": "stream",
          "text": [
            "(50000, 10) (10000, 10)\n"
          ],
          "name": "stdout"
        }
      ]
    },
    {
      "cell_type": "code",
      "metadata": {
        "id": "yc-LxCWERJvi",
        "colab_type": "code",
        "colab": {
          "base_uri": "https://localhost:8080/",
          "height": 34
        },
        "outputId": "d0d88703-abf0-4a72-88c9-275648754961"
      },
      "source": [
        "np.unique(Y_train)"
      ],
      "execution_count": 9,
      "outputs": [
        {
          "output_type": "execute_result",
          "data": {
            "text/plain": [
              "array([0., 1.], dtype=float32)"
            ]
          },
          "metadata": {
            "tags": []
          },
          "execution_count": 9
        }
      ]
    },
    {
      "cell_type": "code",
      "metadata": {
        "id": "QEl0w7PU7_VT",
        "colab_type": "code",
        "colab": {
          "base_uri": "https://localhost:8080/",
          "height": 269
        },
        "outputId": "092c3437-79ad-4e7e-d871-bf3e689e52a1"
      },
      "source": [
        "m=4\n",
        "k=0\n",
        "plt.figure(1)\n",
        "for i in range(0,m):\n",
        "  for j in range(0,m):\n",
        "    plt.subplot2grid((m,m),(i,j))\n",
        "    plt.imshow(x_train[k])\n",
        "    k=k+1\n",
        "plt.show()\n"
      ],
      "execution_count": 10,
      "outputs": [
        {
          "output_type": "display_data",
          "data": {
            "image/png": "[encoded data removed]",
            "text/plain": [
              "<Figure size 432x288 with 16 Axes>"
            ]
          },
          "metadata": {
            "tags": []
          }
        }
      ]
    },
    {
      "cell_type": "code",
      "metadata": {
        "id": "2TXKFGOG8GnE",
        "colab_type": "code",
        "colab": {}
      },
      "source": [
        "img=x_train[5]"
      ],
      "execution_count": 0,
      "outputs": []
    },
    {
      "cell_type": "code",
      "metadata": {
        "id": "a0c5Hpn38jO0",
        "colab_type": "code",
        "colab": {}
      },
      "source": [
        "k=np.array([[-1,1,1],\n",
        "            [1,1,-1],\n",
        "            [-1,5,1]])"
      ],
      "execution_count": 0,
      "outputs": []
    },
    {
      "cell_type": "code",
      "metadata": {
        "id": "mSl9OYy0KoPb",
        "colab_type": "code",
        "colab": {}
      },
      "source": [
        "out_r=img.shape[0]-k.shape[0]+1\n",
        "out_c=img.shape[1]-k.shape[1]+1\n"
      ],
      "execution_count": 0,
      "outputs": []
    },
    {
      "cell_type": "code",
      "metadata": {
        "id": "g9h2FxCEK0lj",
        "colab_type": "code",
        "colab": {}
      },
      "source": [
        "new_img=np.zeros((out_r,out_c))"
      ],
      "execution_count": 0,
      "outputs": []
    },
    {
      "cell_type": "code",
      "metadata": {
        "id": "uNMkzYQxK5Mh",
        "colab_type": "code",
        "colab": {}
      },
      "source": [
        "\n",
        "for r in range(out_r):\n",
        "  for c in range(out_c):\n",
        "    image_patch=img[r:r+k.shape[0],c:c+k.shape[1]]\n",
        "    prod=image_patch*k\n",
        "    prod=prod.sum()\n",
        "    new_img[r,c]=prod if prod>0 else 0"
      ],
      "execution_count": 0,
      "outputs": []
    },
    {
      "cell_type": "code",
      "metadata": {
        "id": "XHuCjFGiMb_u",
        "colab_type": "code",
        "colab": {
          "base_uri": "https://localhost:8080/",
          "height": 269
        },
        "outputId": "35990fbf-badb-4f6f-e5ad-2fd5abcc3a02"
      },
      "source": [
        "plt.imshow(new_img,cmap='gray')\n",
        "plt.show()"
      ],
      "execution_count": 16,
      "outputs": [
        {
          "output_type": "display_data",
          "data": {
            "image/png": "[encoded data removed]",
            "text/plain": [
              "<Figure size 432x288 with 1 Axes>"
            ]
          },
          "metadata": {
            "tags": []
          }
        }
      ]
    },
    {
      "cell_type": "code",
      "metadata": {
        "id": "C-zULWSdOD-q",
        "colab_type": "code",
        "colab": {}
      },
      "source": [
        "from keras.models import Sequential\n",
        "from keras.layers import Dense,Activation,Convolution2D,MaxPooling2D,Flatten,Dropout\n",
        "from keras.utils import np_utils"
      ],
      "execution_count": 0,
      "outputs": []
    },
    {
      "cell_type": "code",
      "metadata": {
        "id": "t5unTHw3QSSw",
        "colab_type": "code",
        "colab": {
          "base_uri": "https://localhost:8080/",
          "height": 1000
        },
        "outputId": "49d53dfd-07a8-45c0-9cc7-f0e2180352a5"
      },
      "source": [
        "model=Sequential()\n",
        "model.add(Convolution2D(40,3,3,input_shape=(32,32,3)))\n",
        "model.add(Activation('relu'))\n",
        "\n",
        "model.add(Convolution2D(20,2,2))\n",
        "model.add(Activation('relu'))\n",
        "\n",
        "model.add(MaxPooling2D(pool_size=(2,2)))\n",
        "\n",
        "model.add(Convolution2D(20,2,2))\n",
        "model.add(Activation('relu'))\n",
        "\n",
        "\n",
        "\n",
        "\n",
        "model.add(Convolution2D(20,3,3))\n",
        "model.add(Activation('relu'))\n",
        "\n",
        "model.add(Convolution2D(20,3,3))\n",
        "model.add(Activation('relu'))\n",
        "\n",
        "model.add(MaxPooling2D(pool_size=(2,2)))\n",
        "\n",
        "model.add(Convolution2D(20,2,2))\n",
        "model.add(Activation('relu'))\n",
        "\n",
        "model.add(Convolution2D(20,2,2))\n",
        "model.add(Activation('relu'))\n",
        "\n",
        "model.add(Flatten())\n",
        "model.add(Dropout(0.25))\n",
        "\n",
        "model.add(Dense(10))\n",
        "model.add(Activation('softmax'))\n",
        "model.summary()\n"
      ],
      "execution_count": 18,
      "outputs": [
        {
          "output_type": "stream",
          "text": [
            "WARNING: Logging before flag parsing goes to stderr.\n",
            "W0630 11:48:31.392213 140111940081536 deprecation_wrapper.py:119] From /usr/local/lib/python3.6/dist-packages/keras/backend/tensorflow_backend.py:74: The name tf.get_default_graph is deprecated. Please use tf.compat.v1.get_default_graph instead.\n",
            "\n",
            "/usr/local/lib/python3.6/dist-packages/ipykernel_launcher.py:2: UserWarning: Update your `Conv2D` call to the Keras 2 API: `Conv2D(40, (3, 3), input_shape=(32, 32, 3...)`\n",
            "  \n",
            "W0630 11:48:31.428195 140111940081536 deprecation_wrapper.py:119] From /usr/local/lib/python3.6/dist-packages/keras/backend/tensorflow_backend.py:517: The name tf.placeholder is deprecated. Please use tf.compat.v1.placeholder instead.\n",
            "\n",
            "W0630 11:48:31.436702 140111940081536 deprecation_wrapper.py:119] From /usr/local/lib/python3.6/dist-packages/keras/backend/tensorflow_backend.py:4138: The name tf.random_uniform is deprecated. Please use tf.random.uniform instead.\n",
            "\n",
            "/usr/local/lib/python3.6/dist-packages/ipykernel_launcher.py:5: UserWarning: Update your `Conv2D` call to the Keras 2 API: `Conv2D(20, (2, 2))`\n",
            "  \"\"\"\n",
            "W0630 11:48:31.476502 140111940081536 deprecation_wrapper.py:119] From /usr/local/lib/python3.6/dist-packages/keras/backend/tensorflow_backend.py:3976: The name tf.nn.max_pool is deprecated. Please use tf.nn.max_pool2d instead.\n",
            "\n",
            "/usr/local/lib/python3.6/dist-packages/ipykernel_launcher.py:10: UserWarning: Update your `Conv2D` call to the Keras 2 API: `Conv2D(20, (2, 2))`\n",
            "  # Remove the CWD from sys.path while we load stuff.\n",
            "/usr/local/lib/python3.6/dist-packages/ipykernel_launcher.py:16: UserWarning: Update your `Conv2D` call to the Keras 2 API: `Conv2D(20, (3, 3))`\n",
            "  app.launch_new_instance()\n",
            "/usr/local/lib/python3.6/dist-packages/ipykernel_launcher.py:19: UserWarning: Update your `Conv2D` call to the Keras 2 API: `Conv2D(20, (3, 3))`\n",
            "/usr/local/lib/python3.6/dist-packages/ipykernel_launcher.py:24: UserWarning: Update your `Conv2D` call to the Keras 2 API: `Conv2D(20, (2, 2))`\n",
            "/usr/local/lib/python3.6/dist-packages/ipykernel_launcher.py:27: UserWarning: Update your `Conv2D` call to the Keras 2 API: `Conv2D(20, (2, 2))`\n",
            "W0630 11:48:31.549793 140111940081536 deprecation_wrapper.py:119] From /usr/local/lib/python3.6/dist-packages/keras/backend/tensorflow_backend.py:133: The name tf.placeholder_with_default is deprecated. Please use tf.compat.v1.placeholder_with_default instead.\n",
            "\n",
            "W0630 11:48:31.558350 140111940081536 deprecation.py:506] From /usr/local/lib/python3.6/dist-packages/keras/backend/tensorflow_backend.py:3445: calling dropout (from tensorflow.python.ops.nn_ops) with keep_prob is deprecated and will be removed in a future version.\n",
            "Instructions for updating:\n",
            "Please use `rate` instead of `keep_prob`. Rate should be set to `rate = 1 - keep_prob`.\n"
          ],
          "name": "stderr"
        },
        {
          "output_type": "stream",
          "text": [
            "_________________________________________________________________\n",
            "Layer (type)                 Output Shape              Param #   \n",
            "=================================================================\n",
            "conv2d_1 (Conv2D)            (None, 30, 30, 40)        1120      \n",
            "_________________________________________________________________\n",
            "activation_1 (Activation)    (None, 30, 30, 40)        0         \n",
            "_________________________________________________________________\n",
            "conv2d_2 (Conv2D)            (None, 29, 29, 20)        3220      \n",
            "_________________________________________________________________\n",
            "activation_2 (Activation)    (None, 29, 29, 20)        0         \n",
            "_________________________________________________________________\n",
            "max_pooling2d_1 (MaxPooling2 (None, 14, 14, 20)        0         \n",
            "_________________________________________________________________\n",
            "conv2d_3 (Conv2D)            (None, 13, 13, 20)        1620      \n",
            "_________________________________________________________________\n",
            "activation_3 (Activation)    (None, 13, 13, 20)        0         \n",
            "_________________________________________________________________\n",
            "conv2d_4 (Conv2D)            (None, 11, 11, 20)        3620      \n",
            "_________________________________________________________________\n",
            "activation_4 (Activation)    (None, 11, 11, 20)        0         \n",
            "_________________________________________________________________\n",
            "conv2d_5 (Conv2D)            (None, 9, 9, 20)          3620      \n",
            "_________________________________________________________________\n",
            "activation_5 (Activation)    (None, 9, 9, 20)          0         \n",
            "_________________________________________________________________\n",
            "max_pooling2d_2 (MaxPooling2 (None, 4, 4, 20)          0         \n",
            "_________________________________________________________________\n",
            "conv2d_6 (Conv2D)            (None, 3, 3, 20)          1620      \n",
            "_________________________________________________________________\n",
            "activation_6 (Activation)    (None, 3, 3, 20)          0         \n",
            "_________________________________________________________________\n",
            "conv2d_7 (Conv2D)            (None, 2, 2, 20)          1620      \n",
            "_________________________________________________________________\n",
            "activation_7 (Activation)    (None, 2, 2, 20)          0         \n",
            "_________________________________________________________________\n",
            "flatten_1 (Flatten)          (None, 80)                0         \n",
            "_________________________________________________________________\n",
            "dropout_1 (Dropout)          (None, 80)                0         \n",
            "_________________________________________________________________\n",
            "dense_1 (Dense)              (None, 10)                810       \n",
            "_________________________________________________________________\n",
            "activation_8 (Activation)    (None, 10)                0         \n",
            "=================================================================\n",
            "Total params: 17,250\n",
            "Trainable params: 17,250\n",
            "Non-trainable params: 0\n",
            "_________________________________________________________________\n"
          ],
          "name": "stdout"
        }
      ]
    },
    {
      "cell_type": "code",
      "metadata": {
        "id": "7axYXcQvVsz9",
        "colab_type": "code",
        "colab": {
          "base_uri": "https://localhost:8080/",
          "height": 104
        },
        "outputId": "4cce98a1-2df3-4149-a7de-6885e55f2e65"
      },
      "source": [
        "model.compile(loss='categorical_crossentropy',optimizer='adam',metrics=['accuracy'])"
      ],
      "execution_count": 19,
      "outputs": [
        {
          "output_type": "stream",
          "text": [
            "W0630 11:48:33.212394 140111940081536 deprecation_wrapper.py:119] From /usr/local/lib/python3.6/dist-packages/keras/optimizers.py:790: The name tf.train.Optimizer is deprecated. Please use tf.compat.v1.train.Optimizer instead.\n",
            "\n",
            "W0630 11:48:33.244713 140111940081536 deprecation_wrapper.py:119] From /usr/local/lib/python3.6/dist-packages/keras/backend/tensorflow_backend.py:3295: The name tf.log is deprecated. Please use tf.math.log instead.\n",
            "\n"
          ],
          "name": "stderr"
        }
      ]
    },
    {
      "cell_type": "code",
      "metadata": {
        "id": "zXlRcCK0SYQS",
        "colab_type": "code",
        "colab": {
          "base_uri": "https://localhost:8080/",
          "height": 826
        },
        "outputId": "190a5e91-f095-429a-a7f7-ab8b54d82624"
      },
      "source": [
        "model.fit(x_train,Y_train,\n",
        "             batch_size=16,\n",
        "             nb_epoch=20,\n",
        "             verbose=2,\n",
        "             validation_data=(x_test,Y_test))"
      ],
      "execution_count": 20,
      "outputs": [
        {
          "output_type": "stream",
          "text": [
            "/usr/local/lib/python3.6/dist-packages/ipykernel_launcher.py:5: UserWarning: The `nb_epoch` argument in `fit` has been renamed `epochs`.\n",
            "  \"\"\"\n",
            "W0630 11:48:35.068415 140111940081536 deprecation.py:323] From /usr/local/lib/python3.6/dist-packages/tensorflow/python/ops/math_grad.py:1250: add_dispatch_support.<locals>.wrapper (from tensorflow.python.ops.array_ops) is deprecated and will be removed in a future version.\n",
            "Instructions for updating:\n",
            "Use tf.where in 2.0, which has the same broadcast rule as np.where\n"
          ],
          "name": "stderr"
        },
        {
          "output_type": "stream",
          "text": [
            "Train on 50000 samples, validate on 10000 samples\n",
            "Epoch 1/20\n",
            " - 25s - loss: 2.0428 - acc: 0.2209 - val_loss: 1.7545 - val_acc: 0.3472\n",
            "Epoch 2/20\n",
            " - 18s - loss: 1.6649 - acc: 0.3774 - val_loss: 1.5535 - val_acc: 0.4238\n",
            "Epoch 3/20\n",
            " - 18s - loss: 1.5337 - acc: 0.4348 - val_loss: 1.4483 - val_acc: 0.4706\n",
            "Epoch 4/20\n",
            " - 18s - loss: 1.4541 - acc: 0.4721 - val_loss: 1.3588 - val_acc: 0.5081\n",
            "Epoch 5/20\n",
            " - 18s - loss: 1.3861 - acc: 0.5018 - val_loss: 1.3523 - val_acc: 0.5165\n",
            "Epoch 6/20\n",
            " - 18s - loss: 1.3400 - acc: 0.5205 - val_loss: 1.3330 - val_acc: 0.5187\n",
            "Epoch 7/20\n",
            " - 18s - loss: 1.3026 - acc: 0.5375 - val_loss: 1.2453 - val_acc: 0.5538\n",
            "Epoch 8/20\n",
            " - 18s - loss: 1.2710 - acc: 0.5488 - val_loss: 1.2591 - val_acc: 0.5493\n",
            "Epoch 9/20\n",
            " - 18s - loss: 1.2510 - acc: 0.5539 - val_loss: 1.2334 - val_acc: 0.5591\n",
            "Epoch 10/20\n",
            " - 17s - loss: 1.2225 - acc: 0.5681 - val_loss: 1.2275 - val_acc: 0.5736\n",
            "Epoch 11/20\n",
            " - 17s - loss: 1.2051 - acc: 0.5721 - val_loss: 1.1753 - val_acc: 0.5797\n",
            "Epoch 12/20\n",
            " - 17s - loss: 1.1901 - acc: 0.5791 - val_loss: 1.2015 - val_acc: 0.5827\n",
            "Epoch 13/20\n",
            " - 18s - loss: 1.1740 - acc: 0.5852 - val_loss: 1.1627 - val_acc: 0.5857\n",
            "Epoch 14/20\n",
            " - 18s - loss: 1.1587 - acc: 0.5904 - val_loss: 1.1841 - val_acc: 0.5861\n",
            "Epoch 15/20\n",
            " - 17s - loss: 1.1477 - acc: 0.5960 - val_loss: 1.2011 - val_acc: 0.5800\n",
            "Epoch 16/20\n",
            " - 17s - loss: 1.1377 - acc: 0.5977 - val_loss: 1.1384 - val_acc: 0.5994\n",
            "Epoch 17/20\n",
            " - 18s - loss: 1.1380 - acc: 0.5984 - val_loss: 1.1432 - val_acc: 0.6036\n",
            "Epoch 18/20\n",
            " - 18s - loss: 1.1228 - acc: 0.6038 - val_loss: 1.1316 - val_acc: 0.6078\n",
            "Epoch 19/20\n",
            " - 17s - loss: 1.1185 - acc: 0.6062 - val_loss: 1.1199 - val_acc: 0.6063\n",
            "Epoch 20/20\n",
            " - 17s - loss: 1.1097 - acc: 0.6065 - val_loss: 1.1199 - val_acc: 0.6087\n"
          ],
          "name": "stdout"
        },
        {
          "output_type": "execute_result",
          "data": {
            "text/plain": [
              "<keras.callbacks.History at 0x7f6e0b7ac5c0>"
            ]
          },
          "metadata": {
            "tags": []
          },
          "execution_count": 20
        }
      ]
    },
    {
      "cell_type": "code",
      "metadata": {
        "id": "2sSeFWsGUuAq",
        "colab_type": "code",
        "colab": {
          "base_uri": "https://localhost:8080/",
          "height": 50
        },
        "outputId": "f2ac0a55-ba12-4cc5-a04d-2f4045e5b3ed"
      },
      "source": [
        "model.evaluate(x_test,Y_test)"
      ],
      "execution_count": 21,
      "outputs": [
        {
          "output_type": "stream",
          "text": [
            "10000/10000 [==============================] - 1s 82us/step\n"
          ],
          "name": "stdout"
        },
        {
          "output_type": "execute_result",
          "data": {
            "text/plain": [
              "[1.1198680543899535, 0.6087]"
            ]
          },
          "metadata": {
            "tags": []
          },
          "execution_count": 21
        }
      ]
    },
    {
      "cell_type": "code",
      "metadata": {
        "id": "VpzSr5-YhVmP",
        "colab_type": "code",
        "colab": {
          "base_uri": "https://localhost:8080/",
          "height": 34
        },
        "outputId": "597d6d57-b6cc-41eb-fae1-24fb2dd7e03f"
      },
      "source": [
        "y_test[0].shape"
      ],
      "execution_count": 22,
      "outputs": [
        {
          "output_type": "execute_result",
          "data": {
            "text/plain": [
              "(1,)"
            ]
          },
          "metadata": {
            "tags": []
          },
          "execution_count": 22
        }
      ]
    },
    {
      "cell_type": "code",
      "metadata": {
        "id": "QvKSGotTYrwb",
        "colab_type": "code",
        "colab": {
          "base_uri": "https://localhost:8080/",
          "height": 102
        },
        "outputId": "6115f525-0dca-416d-e9ea-c88ecee5ac5e"
      },
      "source": [
        "test=np.resize(x_test[26],(1,32,32,3))\n",
        "img=model.predict(test)\n",
        "print(class_name[img.argmax()])\n",
        "plt.imshow(img)\n",
        "plt.show()"
      ],
      "execution_count": 69,
      "outputs": [
        {
          "output_type": "stream",
          "text": [
            "deer\n"
          ],
          "name": "stdout"
        },
        {
          "output_type": "display_data",
          "data": {
            "image/png": "[encoded data removed]",
            "text/plain": [
              "<Figure size 432x288 with 1 Axes>"
            ]
          },
          "metadata": {
            "tags": []
          }
        }
      ]
    },
    {
      "cell_type": "code",
      "metadata": {
        "id": "fyDXtYleY_tN",
        "colab_type": "code",
        "colab": {
          "base_uri": "https://localhost:8080/",
          "height": 269
        },
        "outputId": "4f87f819-2579-40ed-ac8c-36abc6c1bbd6"
      },
      "source": [
        "plt.imshow(x_test[26])\n",
        "plt.show()"
      ],
      "execution_count": 70,
      "outputs": [
        {
          "output_type": "display_data",
          "data": {
            "image/png": "[encoded data removed]",
            "text/plain": [
              "<Figure size 432x288 with 1 Axes>"
            ]
          },
          "metadata": {
            "tags": []
          }
        }
      ]
    },
    {
      "cell_type": "code",
      "metadata": {
        "id": "u9utPATAT36z",
        "colab_type": "code",
        "colab": {}
      },
      "source": [
        "class_name = {\n",
        "    0: 'airplane',\n",
        "    1: 'automobile',\n",
        "    2: 'bird',\n",
        "    3: 'cat',\n",
        "    4: 'deer',\n",
        "    5: 'dog',\n",
        "    6: 'frog',\n",
        "    7: 'horse',\n",
        "    8: 'ship',\n",
        "    9: 'truck',\n",
        "}"
      ],
      "execution_count": 0,
      "outputs": []
    },
    {
      "cell_type": "code",
      "metadata": {
        "id": "xSVzveP2XTts",
        "colab_type": "code",
        "colab": {}
      },
      "source": [
        ""
      ],
      "execution_count": 0,
      "outputs": []
    }
  ]
}